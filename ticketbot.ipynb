{
 "cells": [
  {
   "cell_type": "code",
   "execution_count": null,
   "id": "a8743cc1",
   "metadata": {},
   "outputs": [],
   "source": [
    "from selenium import webdriver\n",
    "from selenium.webdriver.chrome.service import Service\n",
    "from selenium.webdriver.common.by import By\n",
    "import time\n",
    "\n",
    "# 更改搶票首頁\n",
    "website = \"https://shopee.tw/checkout/?state=H8KLCAAAAAAAAAN1Vk%2FCj8OjNBTDvy45FylJwpPCtMOpbT8AwqdFw6LCgFbClsKbwrx0w4w4dsOWdsK6wq1GwpVWK8KxaBFww6PCsFwWDkhcAMKtQAzDogDCn8Kmw4PDjMK3w6DDmcKOw5PCtMKaw63CpcO1e8OPw6%2FDv8Ovw6fDnkTCpGpMwrTDumzCkcKnw4s4wps%2FwptFwobCtcKgDW3Cu2jClRTCi3zCnhRlwpbDjSJ9JTvCqWpQGsKtb8OcMVrDuW9WR8KrPCnDksKyTMOiw6wwwovCmMKBw5Zbw5lfVsKbJmk8wo%2FDp0XCuShnUStrw6BWwrpYLsOKJMOJwpfDs3wxwovCnsO3VBhmw7YYdRbDkcK6JlLCkBooJ8OWMkbCp8KaDFLDncKvwol1HMKtGsOKNcO4eGTCo2TDnzljw5Fzwo5CwqF7RUUFNhMswqvCusKiQgAnwrDCq3jCr8OZFggTwo10JcOIXlUQw6IYeQ0iWkURFsKiw7sOazbCmjQKwoAoMMK9EnoIe3hme8OCwrrCjsKJwo3Cu8KbOAlwwqgMw5TCpMKjw7sWwoQhIWxNDcK1w4HCtsOYQCYxQDrCi2Rnw7DDp8KQRxTCnXLCtMOuw6ZxwpzDhXE8EcOaKsOPwq7DnMKcw6tcwqPDk8Kiw4zCi3zCjsOXFMOUDMOjU1XCj8OBw5dUXHvCsyzCn8O5wpPCoC1gw7DDv8K%2BfXN8w7%2FDvsO4w53Dq8K7wp9%2BecO4w6rDpcO9wo9fw5t0w6xdw5HCt2tQaMKSwqfDs3JRw6zDnCfDhm1BA8OYdUzDrcKte8OrI0k%2BSsOjwrTCiA7DmDkDOxPCssK0w6dOw4lWwrrDlEMuwr0GUklmw7tpVMKPU3Q9HjvCusKVfXUFasKsw7QDWj%2FCs8OHwpUVw67CmcOva8ONNF1zwpzCigLCqm3Ds8O9worCrG3Ds04hWsK9w7HDphzCqBLCpMKVCsOIIMODChQ8w68Zw7bClMKswoHCnMOmwqTCg8KvUcKtwrs2w6gHwqUtwp9Tw5NIw5XChsOcwobCncK0w6DCmcKKHsKBw5PCpHVOwp4nScK6w4jDpkUcJ2lZw4zCosKLYsKfPsO5w7gpw6rCnkQHwrfDslBdwpNpEMKCKxlAMcKAwofDtkYSw5p1fH9mGcK2HMKbwqvCt8OEwq91w5jCvCHDuxrCtsKsOsOBKBzDq8Khw6fDvsOYw6BEQHXCignDo8OlRsKKTcOdC8Kyw6bCtMK6XsOLwp3Cl8Kuw7s9ZhdAM1kcwq8YwqF6RXEowphwwqMYwohawp%2FCgjPCjT3DnsKjasKzw6EwFgfDgsOOw71SSjnCly%2FCrBfDp8OuVMOpw7XCvhocw7rCmcK6w77DicOeEGgpw6PDgx4gKAwxw7sOw5zDplXCnMK5woTDq8OpCcK2wpMiLHFdwo7Dny3DiAbDqhPCgyHDhWDCm8OPw4UWRnQ3w7pxwr%2FDq8OATGHDmcKnwpTCvBdVAMKTbxsSwqYCwq1Hw4wNZ8K3SMOLZMKZLRLDj8K1w45owqzDiQYawoQYw63DocOtw693X8O8ecO8w7cHw7LDicKnw6TDuMOuw6%2FCh8OvXx%2FDv3pFwo7Cv8K%2BwrnDu8O5w5XDscKbwpfDpMO4w4fCl8OHf27Dr29%2FW8Kmw4fDm8ObZHHDv8O2HUnDoyzCmxPDojINwozDiMOlwoZpw4PCqsKADkdyw6U8SS95dMOyw5Zgw7E1w6wcwoXDh2fDrMKqwqABZcOhZsKfEsOkVMKcPD5bRHNpJm8AwprDqUrCsXPDjmQtw53DgAnCmk3DjxvDhsO5dMOvw45kDcKnSAFFdm7DqcOfDMK%2FwrstFcOoEcKJARHCtD4Bw4sXMMK9w6Q7wozDtcK%2Bw4DCtcK7wpLClgFDw7NPwo9cwoNwJ8OSPhPDiFVhEyzCmsK9wr%2FCvsKzbDsiZMKywqTCiDHDhFsYdQvDisO2GXEBw7bDgTTDklDDnMOgLC9jw7%2FCmTQ9wqjCkcOZGsOLeXjCp8KSwr3DhcOrw5QqSCfDnh5zMm4QYsOZYm88w6MYWzcIX8KobAhtw4coVcKvDcKWbcOtw44cOcOuwrPDlMOmGMKKw4E4w5nDqcOrNhJkUMOaw7XCgcOhdUHDisKvAVp7wrMYCsO3w78UECHDp8KVwq57USNXw5jDvxx6wqIJwptkwptLw6vDjzFRO8OLw7EJcTgzO0EawoDDgcKNwpVoUMKew74Gw6nDuG%2FDpMK8wr7Ck8O4wqLDtx8ye1zCv8KlFwI%2Fw49xBFnCviwzV8O9w6HDsD92w5hwwrfDsgkAAA%3D%3D\"\n",
    "\n",
    "s = Service(\"chromedriver.exe\")\n",
    "driver = webdriver.Chrome(service=s)\n",
    "driver.get(website)"
   ]
  },
  {
   "cell_type": "code",
   "execution_count": null,
   "id": "64f4cc5c",
   "metadata": {},
   "outputs": [],
   "source": [
    "# 優惠券\n",
    "driver.find_element(By.XPATH, \"//*[@id='main']/div/div[2]/div/div[2]/div[2]/div[1]/div[2]\").click()"
   ]
  },
  {
   "cell_type": "code",
   "execution_count": null,
   "id": "de65c606",
   "metadata": {},
   "outputs": [],
   "source": [
    "# 找9折按鈕\n",
    "while True:\n",
    "    try:\n",
    "        button = driver.find_element(By.XPATH, \"//*[contains(text(), '9.5折')]\")\n",
    "        parent_button = button.find_element(By.XPATH, \"..\")\n",
    "        driver.execute_script(\"arguments[0].click();\", parent_button)\n",
    "        break\n",
    "    except:\n",
    "        continue"
   ]
  },
  {
   "cell_type": "code",
   "execution_count": null,
   "id": "41094caf",
   "metadata": {},
   "outputs": [],
   "source": [
    "# 選優惠券\n",
    "try:\n",
    "    button = driver.find_element(By.XPATH, \"//*[@id='modal']/div[2]/div[1]/div/div[1]/div/div/div/div/div/div[2]/div/div[2]/div[6]/div[1]/div/div[4]/div[3]/div[2]/div\")\n",
    "    driver.execute_script(\"arguments[0].click();\", button)\n",
    "except:\n",
    "    button = driver.find_element(By.XPATH, \"//*[@id='modal']/div[2]/div[1]/div/div[1]/div/div/div/div/div/div[2]/div/div[2]/div[6]/div[2]/div/div[4]/div[3]/div[2]/div\").click()\n",
    "    driver.execute_script(\"arguments[0].click();\", button)"
   ]
  },
  {
   "cell_type": "code",
   "execution_count": null,
   "id": "bc6f62f2",
   "metadata": {},
   "outputs": [],
   "source": [
    "# # 確定\n",
    "driver.find_element(By.XPATH, \"//*[@id='modal']/div[2]/div[1]/div/div[1]/div/div/div/div/div/div[3]/button[2]\").click()"
   ]
  },
  {
   "cell_type": "code",
   "execution_count": null,
   "id": "9f86f88c",
   "metadata": {},
   "outputs": [],
   "source": [
    "# # 選信用卡分期\n",
    "driver.find_element(By.XPATH, \"//*[@id='main']/div/div[2]/div/div[2]/div[3]/div[1]/div/div[1]/div[2]/div/span[2]/button\").click()"
   ]
  },
  {
   "cell_type": "code",
   "execution_count": null,
   "id": "df87241f",
   "metadata": {},
   "outputs": [],
   "source": [
    "# 選哪張信用卡\n",
    "driver.find_element(By.XPATH, \"//*[@id='main']/div/div[2]/div/div[2]/div[3]/div[1]/div/div[2]/div[1]/div[2]/div[2]/div[6]/div[1]/div\").click()"
   ]
  },
  {
   "cell_type": "code",
   "execution_count": null,
   "id": "dd9e74fe",
   "metadata": {},
   "outputs": [],
   "source": [
    "# 送出\n",
    "driver.find_element(By.XPATH, \"//*[@id='main']/div/div[2]/div/div[2]/div[3]/div[2]/div[14]/button\").click()"
   ]
  },
  {
   "cell_type": "code",
   "execution_count": null,
   "id": "c0812f87",
   "metadata": {},
   "outputs": [],
   "source": [
    "# 移除優惠券\n",
    "driver.find_element(By.XPATH, \"//*[@id='modal']/div[2]/div[1]/div/div[2]/span[1]\").click()"
   ]
  },
  {
   "cell_type": "code",
   "execution_count": null,
   "id": "cb4af23c",
   "metadata": {},
   "outputs": [],
   "source": [
    "# 變更優惠券\n",
    "driver.find_element(By.XPATH, \"//*[@id='main']/div/div[2]/div/div[2]/div[2]/div[1]/div[2]/button\").click()"
   ]
  },
  {
   "cell_type": "code",
   "execution_count": null,
   "id": "2bd80a67",
   "metadata": {},
   "outputs": [],
   "source": [
    "# Combine all codes\n",
    "start_time = time.time()\n",
    "wait_time = 2\n",
    "while True:\n",
    "    driver.find_element(By.XPATH, \"//*[@id='main']/div/div[2]/div/div[2]/div[2]/div[1]/div[2]\").click()\n",
    "    time.sleep(wait_time)\n",
    "    while True:\n",
    "        try:\n",
    "            button = driver.find_element(By.XPATH, \"//*[contains(text(), '9折')]\")\n",
    "            parent_button = button.find_element(By.XPATH, \"..\")\n",
    "            driver.execute_script(\"arguments[0].click();\", parent_button)\n",
    "            driver.find_element(By.XPATH, \"//*[@id='modal']/div[2]/div[1]/div/div[1]/div/div/div/div/div/div[3]/button[2]\").click()\n",
    "            time.sleep(wait_time)\n",
    "            try:\n",
    "                driver.find_element(By.XPATH, \"//*[contains(text(), '已選取')]\")\n",
    "            except:\n",
    "                driver.find_element(By.XPATH, \"//*[@id='main']/div/div[2]/div/div[2]/div[2]/div[1]/div[2]\").click()\n",
    "                time.sleep(wait_time)\n",
    "                continue\n",
    "            try:\n",
    "                driver.find_element(By.XPATH, \"//span[text()='$0']\")\n",
    "                driver.find_element(By.XPATH, \"//*[@id='main']/div/div[2]/div/div[2]/div[2]/div[1]/div[2]/button\").click()\n",
    "                time.sleep(wait_time)\n",
    "                continue\n",
    "            except:\n",
    "                break\n",
    "        except:\n",
    "            driver.find_element(By.XPATH, \"//*[@id='modal']/div[2]/div[1]/div/div[1]/div/div/div/div/div/div[3]/button[2]\").click()\n",
    "            time.sleep(wait_time)\n",
    "            driver.find_element(By.XPATH, \"//*[@id='main']/div/div[2]/div/div[2]/div[2]/div[1]/div[2]\").click()\n",
    "            time.sleep(wait_time)\n",
    "\n",
    "    driver.find_element(By.XPATH, \"//*[@id='main']/div/div[2]/div/div[2]/div[3]/div[1]/div/div[1]/div[2]/div/span[2]/button\").click()\n",
    "    driver.find_element(By.XPATH, \"//*[@id='main']/div/div[2]/div/div[2]/div[3]/div[1]/div/div[2]/div[1]/div[2]/div[2]/div[6]/div[1]/div\").click()\n",
    "    driver.find_element(By.XPATH, \"//*[@id='main']/div/div[2]/div/div[2]/div[3]/div[2]/div[14]/button\").click()\n",
    "    time.sleep(wait_time)\n",
    "    driver.find_element(By.XPATH, \"//*[@id='modal']/div[2]/div[1]/div/div[2]/span[1]\").click()\n",
    "end_time = time.time()\n",
    "print(\"execution time\", end_time-start_time)"
   ]
  },
  {
   "cell_type": "code",
   "execution_count": null,
   "id": "b9256238",
   "metadata": {},
   "outputs": [],
   "source": []
  },
  {
   "cell_type": "code",
   "execution_count": null,
   "id": "1d0c6da7",
   "metadata": {},
   "outputs": [],
   "source": []
  },
  {
   "cell_type": "code",
   "execution_count": null,
   "id": "ecf50c43",
   "metadata": {},
   "outputs": [],
   "source": []
  }
 ],
 "metadata": {
  "kernelspec": {
   "display_name": "Python 3",
   "language": "python",
   "name": "python3"
  },
  "language_info": {
   "codemirror_mode": {
    "name": "ipython",
    "version": 3
   },
   "file_extension": ".py",
   "mimetype": "text/x-python",
   "name": "python",
   "nbconvert_exporter": "python",
   "pygments_lexer": "ipython3",
   "version": "3.8.8"
  }
 },
 "nbformat": 4,
 "nbformat_minor": 5
}
